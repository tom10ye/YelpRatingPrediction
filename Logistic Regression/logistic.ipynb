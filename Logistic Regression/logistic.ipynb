{
 "cells": [
  {
   "cell_type": "code",
   "execution_count": 1,
   "metadata": {
    "collapsed": true
   },
   "outputs": [],
   "source": [
    "import numpy\n",
    "import gzip\n",
    "from collections import defaultdict\n",
    "import scipy.optimize\n",
    "import random\n",
    "from math import exp\n",
    "from math import log\n",
    "from sklearn import svm"
   ]
  },
  {
   "cell_type": "code",
   "execution_count": 2,
   "metadata": {
    "collapsed": true
   },
   "outputs": [],
   "source": [
    "def parseData(fname):\n",
    "  for l in open(fname):\n",
    "    yield eval(l)"
   ]
  },
  {
   "cell_type": "code",
   "execution_count": 3,
   "metadata": {
    "collapsed": false
   },
   "outputs": [
    {
     "name": "stdout",
     "output_type": "stream",
     "text": [
      "Reading data...\n",
      "done\n"
     ]
    }
   ],
   "source": [
    "print \"Reading data...\"\n",
    "reviewdata = list(parseData(\"yelp_training_set_review.json\"))\n",
    "checkindata = list(parseData(\"yelp_training_set_checkin.json\"))\n",
    "userdata = list(parseData(\"yelp_training_set_user.json\"))\n",
    "businessdata = list(parseData(\"yelp_training_set_business.json\"))\n",
    "print \"done\""
   ]
  },
  {
   "cell_type": "code",
   "execution_count": 4,
   "metadata": {
    "collapsed": true
   },
   "outputs": [],
   "source": [
    "# Divide the review data\n",
    "train_data = reviewdata[:100000]\n",
    "valid_data = reviewdata[100000:200000]\n",
    "test_data = reviewdata[200000:]"
   ]
  },
  {
   "cell_type": "code",
   "execution_count": 5,
   "metadata": {
    "collapsed": true
   },
   "outputs": [],
   "source": [
    "def inner(x,y):\n",
    "  return sum([x[i]*y[i] for i in range(len(x))])"
   ]
  },
  {
   "cell_type": "code",
   "execution_count": 6,
   "metadata": {
    "collapsed": true
   },
   "outputs": [],
   "source": [
    "def sigmoid(x):\n",
    "  return 1.0 / (1 + exp(-x))"
   ]
  },
  {
   "cell_type": "code",
   "execution_count": 7,
   "metadata": {
    "collapsed": true
   },
   "outputs": [],
   "source": [
    "# NEGATIVE Log-likelihood\n",
    "def f(theta, X, y, lam):\n",
    "  loglikelihood = 0\n",
    "  for i in range(len(X)):\n",
    "    logit = inner(X[i], theta)\n",
    "    loglikelihood -= log(1 + exp(-logit))\n",
    "    if not y[i]:\n",
    "      loglikelihood -= logit\n",
    "  for k in range(len(theta)):\n",
    "    loglikelihood -= lam * theta[k]*theta[k]\n",
    "  return -loglikelihood"
   ]
  },
  {
   "cell_type": "code",
   "execution_count": 8,
   "metadata": {
    "collapsed": true
   },
   "outputs": [],
   "source": [
    "# NEGATIVE Derivative of log-likelihood\n",
    "def fprime(theta, X, y, lam):\n",
    "  dl = [0]*len(theta)\n",
    "  for i in range(len(X)):\n",
    "    logit = inner(X[i], theta)\n",
    "    for k in range(len(theta)):\n",
    "      dl[k] += X[i][k] * (1 - sigmoid(logit))\n",
    "      if not y[i]:\n",
    "        dl[k] -= X[i][k]\n",
    "  for k in range(len(theta)):\n",
    "    dl[k] -= lam*2*theta[k]\n",
    "  return numpy.array([-x for x in dl])"
   ]
  },
  {
   "cell_type": "code",
   "execution_count": 9,
   "metadata": {
    "collapsed": true
   },
   "outputs": [],
   "source": [
    "train_ratings=[]\n",
    "for r in train_data:\n",
    "    train_ratings.append(r['stars'])"
   ]
  },
  {
   "cell_type": "code",
   "execution_count": 10,
   "metadata": {
    "collapsed": true
   },
   "outputs": [],
   "source": [
    "# Obtain the evaluation\n",
    "y_train=[]\n",
    "for r in train_ratings:\n",
    "  if r > 3.5:\n",
    "    y_train.append(1)\n",
    "  else:\n",
    "    y_train.append(0)"
   ]
  },
  {
   "cell_type": "code",
   "execution_count": 11,
   "metadata": {
    "collapsed": false
   },
   "outputs": [],
   "source": [
    "trainWeek = []\n",
    "trainCount = []\n",
    "trainReview= []\n",
    "trainAvg = []\n",
    "trainStar = []\n",
    "trainCheckin = []\n",
    "trainBCount = []\n",
    "userRatings = defaultdict(list)\n",
    "userCounts = defaultdict(list)\n",
    "businessCounts = defaultdict(list)\n",
    "businessCheckin = defaultdict(list)\n",
    "businessStar = defaultdict(list)\n",
    "ratingAvg = 0\n",
    "countAvg = 0\n",
    "checkinAvg = 0\n",
    "starAvg = 0\n",
    "countAvg2 = 0\n",
    "\n",
    "\n",
    "for u in userdata:\n",
    "    user = u['user_id']\n",
    "    userRatings[user] = u['average_stars']\n",
    "    userCounts[user] = u['review_count']\n",
    "    ratingAvg += u['average_stars']\n",
    "    countAvg += u['review_count']\n",
    "\n",
    "for u in checkindata:\n",
    "    business = u['business_id']\n",
    "    nCheckin = 0\n",
    "    for t in u['checkin_info']:\n",
    "        nCheckin += u['checkin_info'][t]\n",
    "    businessCheckin[business] = nCheckin\n",
    "    checkinAvg += nCheckin\n",
    "\n",
    "for u in businessdata:\n",
    "    business = u['business_id']\n",
    "    businessStar[business] = u['stars']\n",
    "    businessCounts[business] = u['review_count']\n",
    "    countAvg2 +=u['review_count']\n",
    "    starAvg += u['stars']\n",
    "    \n",
    "ratingAvg /= len(userdata)\n",
    "countAvg /= len(userdata)\n",
    "starAvg /= len(businessdata)\n",
    "checkinAvg /= len(checkindata)\n",
    "countAvg2 /= len(businessdata)\n",
    "    \n",
    "for r in train_data:\n",
    "    user, business = r['user_id'], r['business_id']\n",
    "    trainReview.append(len(r['text'].split()))\n",
    "    if user in userRatings:\n",
    "        trainAvg.append(userRatings[user])\n",
    "        trainCount.append(userCounts[user])\n",
    "    else:\n",
    "        trainAvg.append(ratingAvg)\n",
    "        trainCount.append(countAvg)\n",
    "    if business in businessCheckin:\n",
    "        trainCheckin.append(businessCheckin[business])\n",
    "        trainBCount.append(businessCounts[business])\n",
    "    else:\n",
    "        trainCheckin.append(checkinAvg)\n",
    "        trainBCount.append(countAvg2)\n",
    "    if business in businessStar:\n",
    "        trainStar.append(businessStar[business])\n",
    "    else:\n",
    "        trainStar.append(starAvg)"
   ]
  },
  {
   "cell_type": "code",
   "execution_count": 12,
   "metadata": {
    "collapsed": false
   },
   "outputs": [],
   "source": [
    "def feature(reviewWords, avgRating, Count, nCheckin, star):\n",
    "    feat = [[1] for row in range(len(Count))]\n",
    "    feat = numpy.column_stack((feat, reviewWords, avgRating, Count, nCheckin, star))\n",
    "    return feat"
   ]
  },
  {
   "cell_type": "code",
   "execution_count": 13,
   "metadata": {
    "collapsed": true
   },
   "outputs": [],
   "source": [
    "X_train = feature(trainReview, trainAvg, trainCount, trainCheckin, trainStar)"
   ]
  },
  {
   "cell_type": "code",
   "execution_count": 14,
   "metadata": {
    "collapsed": true
   },
   "outputs": [],
   "source": [
    "# Use a library function to run gradient descent (or you can implement yourself!)\n",
    "theta,l,info = scipy.optimize.fmin_l_bfgs_b(f, [0]*len(X_train[0]), fprime, args = (X_train, y_train, 1.0))"
   ]
  },
  {
   "cell_type": "code",
   "execution_count": 15,
   "metadata": {
    "collapsed": false
   },
   "outputs": [],
   "source": [
    "validReview = []\n",
    "validAvg = []\n",
    "validCount = []\n",
    "validCheckin = []\n",
    "validStar= []\n",
    "validBCount = []\n",
    "\n",
    "for r in valid_data:\n",
    "    user, business = r['user_id'], r['business_id']\n",
    "    validReview.append(len(r['text'].split()))\n",
    "    if user in userRatings:\n",
    "        validAvg.append(userRatings[user])\n",
    "        validCount.append(userCounts[user])\n",
    "    else:\n",
    "        validAvg.append(ratingAvg)\n",
    "        validCount.append(countAvg)\n",
    "    if business in businessCheckin:\n",
    "        validCheckin.append(businessCheckin[business])\n",
    "    else:\n",
    "        validCheckin.append(checkinAvg)\n",
    "    if business in businessStar:\n",
    "        validStar.append(businessStar[business])\n",
    "        validBCount.append(businessCounts[business])\n",
    "    else:\n",
    "        validStar.append(starAvg)\n",
    "        validBCount.append(countAvg2)"
   ]
  },
  {
   "cell_type": "code",
   "execution_count": 17,
   "metadata": {
    "collapsed": false,
    "scrolled": true
   },
   "outputs": [],
   "source": [
    "y_predictions1 = []\n",
    "X_valid = feature(validReview, validAvg, validCount, validCheckin, validStar)"
   ]
  },
  {
   "cell_type": "code",
   "execution_count": 18,
   "metadata": {
    "collapsed": false,
    "scrolled": true
   },
   "outputs": [],
   "source": [
    "for u in range(len(X_valid)):\n",
    "    y_predictions1.append(inner(X_valid[u],theta))"
   ]
  },
  {
   "cell_type": "code",
   "execution_count": 19,
   "metadata": {
    "collapsed": true
   },
   "outputs": [],
   "source": [
    "minimum1 = 0\n",
    "maximum1 = 0\n",
    "for u in range(len(y_predictions1)):\n",
    "    minimum1 = min(y_predictions1[u], minimum1)\n",
    "    maximum1 = max(y_predictions1[u], maximum1)"
   ]
  },
  {
   "cell_type": "code",
   "execution_count": 42,
   "metadata": {
    "collapsed": true
   },
   "outputs": [],
   "source": [
    "predict_ratings1 = []\n",
    "for u in range(len(y_predictions1)):\n",
    "    if y_predictions1[u] > 0:\n",
    "        predict_ratings1.append(3.5 + 1.5 * (y_predictions1[u] / maximum1))\n",
    "    else:\n",
    "        predict_ratings1.append(3.5 - 2.5 * (y_predictions1[u] / minimum1))\n",
    "    #predict_ratings1[u] = round(predict_ratings1[u], 1)"
   ]
  },
  {
   "cell_type": "code",
   "execution_count": 43,
   "metadata": {
    "collapsed": false
   },
   "outputs": [],
   "source": [
    "valid_ratings=[]\n",
    "for r in valid_data:\n",
    "    valid_ratings.append(r['stars'])"
   ]
  },
  {
   "cell_type": "code",
   "execution_count": 44,
   "metadata": {
    "collapsed": false,
    "scrolled": true
   },
   "outputs": [
    {
     "name": "stdout",
     "output_type": "stream",
     "text": [
      "1.03717992678\n"
     ]
    }
   ],
   "source": [
    "MSE1 = 0\n",
    "for i in range(len(valid_ratings)):\n",
    "    MSE1 += (predict_ratings1[i] - valid_ratings[i])**2\n",
    "MSE1 /= len(valid_ratings)\n",
    "print MSE1"
   ]
  },
  {
   "cell_type": "code",
   "execution_count": null,
   "metadata": {
    "collapsed": false
   },
   "outputs": [],
   "source": []
  },
  {
   "cell_type": "code",
   "execution_count": 23,
   "metadata": {
    "collapsed": true
   },
   "outputs": [],
   "source": [
    "testReview = []\n",
    "testAvg = []\n",
    "testCount = []\n",
    "testCheckin = []\n",
    "testStar= []\n",
    "testBCount = []\n",
    "\n",
    "for r in test_data:\n",
    "    user, business = r['user_id'], r['business_id']\n",
    "    testReview.append(len(r['text'].split()))\n",
    "    if user in userRatings:\n",
    "        testAvg.append(userRatings[user])\n",
    "        testCount.append(userCounts[user])\n",
    "    else:\n",
    "        testAvg.append(ratingAvg)\n",
    "        testCount.append(countAvg)\n",
    "    if business in businessCheckin:\n",
    "        testCheckin.append(businessCheckin[business])\n",
    "    else:\n",
    "        testCheckin.append(checkinAvg)\n",
    "    if business in businessStar:\n",
    "        testStar.append(businessStar[business])\n",
    "        testBCount.append(businessCounts[business])\n",
    "    else:\n",
    "        testStar.append(starAvg)\n",
    "        testBCount.append(countAvg2)"
   ]
  },
  {
   "cell_type": "code",
   "execution_count": 24,
   "metadata": {
    "collapsed": true
   },
   "outputs": [],
   "source": [
    "y_predictions2 = []\n",
    "X_test = feature(testReview, testAvg, testCount, testCheckin, testStar)"
   ]
  },
  {
   "cell_type": "code",
   "execution_count": 25,
   "metadata": {
    "collapsed": true
   },
   "outputs": [],
   "source": [
    "for u in range(len(X_test)):\n",
    "    y_predictions2.append(inner(X_test[u],theta))"
   ]
  },
  {
   "cell_type": "code",
   "execution_count": 26,
   "metadata": {
    "collapsed": true
   },
   "outputs": [],
   "source": [
    "minimum2 = 0\n",
    "maximum2 = 0\n",
    "for u in range(len(y_predictions2)):\n",
    "    minimum2 = min(y_predictions2[u], minimum2)\n",
    "    maximum2 = max(y_predictions2[u], maximum2)"
   ]
  },
  {
   "cell_type": "code",
   "execution_count": 45,
   "metadata": {
    "collapsed": true
   },
   "outputs": [],
   "source": [
    "predict_ratings2 = []\n",
    "for u in range(len(y_predictions2)):\n",
    "    if y_predictions2[u] > 0:\n",
    "        predict_ratings2.append(3.5 + 1.5 * (y_predictions2[u] / maximum2))\n",
    "    else:\n",
    "        predict_ratings2.append(3.5 - 2.5 * (y_predictions2[u] / minimum2))\n",
    "    #predict_ratings2[u] = round(predict_ratings2[u], 1)"
   ]
  },
  {
   "cell_type": "code",
   "execution_count": 46,
   "metadata": {
    "collapsed": true
   },
   "outputs": [],
   "source": [
    "test_ratings=[]\n",
    "for r in test_data:\n",
    "    test_ratings.append(r['stars'])"
   ]
  },
  {
   "cell_type": "code",
   "execution_count": 47,
   "metadata": {
    "collapsed": false
   },
   "outputs": [
    {
     "name": "stdout",
     "output_type": "stream",
     "text": [
      "1.05464099259\n"
     ]
    }
   ],
   "source": [
    "MSE2 = 0\n",
    "for i in range(len(test_ratings)):\n",
    "    MSE2 += (predict_ratings2[i] - test_ratings[i])**2\n",
    "MSE2 /= len(test_ratings)\n",
    "print MSE2"
   ]
  },
  {
   "cell_type": "code",
   "execution_count": null,
   "metadata": {
    "collapsed": true
   },
   "outputs": [],
   "source": []
  },
  {
   "cell_type": "code",
   "execution_count": null,
   "metadata": {
    "collapsed": true
   },
   "outputs": [],
   "source": []
  }
 ],
 "metadata": {
  "anaconda-cloud": {},
  "kernelspec": {
   "display_name": "Python [conda root]",
   "language": "python",
   "name": "conda-root-py"
  },
  "language_info": {
   "codemirror_mode": {
    "name": "ipython",
    "version": 2
   },
   "file_extension": ".py",
   "mimetype": "text/x-python",
   "name": "python",
   "nbconvert_exporter": "python",
   "pygments_lexer": "ipython2",
   "version": "2.7.12"
  }
 },
 "nbformat": 4,
 "nbformat_minor": 1
}
